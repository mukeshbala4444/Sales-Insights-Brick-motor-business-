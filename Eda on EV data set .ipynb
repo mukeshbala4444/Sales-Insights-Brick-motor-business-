{
 "cells": [
  {
   "cell_type": "code",
   "execution_count": 1,
   "id": "07fd1d0c-96ce-4e11-942f-af8009059021",
   "metadata": {},
   "outputs": [],
   "source": [
    "import pandas as pd\n",
    "import numpy as np\n",
    "import matplotlib.pyplot as plt\n",
    "%matplotlib inline\n",
    "import seaborn as sns"
   ]
  },
  {
   "cell_type": "code",
   "execution_count": 2,
   "id": "64fd58cf-dd10-42da-845b-9bef59f589b4",
   "metadata": {},
   "outputs": [],
   "source": [
    "df=pd.read_csv(\"dim_date.csv\")"
   ]
  },
  {
   "cell_type": "code",
   "execution_count": 3,
   "id": "55cfbadc-8c47-4921-87d3-d3a213882bdd",
   "metadata": {},
   "outputs": [],
   "source": [
    "df2=pd.read_csv(\"electric_vehicle_sales_by_makers 2.csv\")"
   ]
  },
  {
   "cell_type": "code",
   "execution_count": 4,
   "id": "c57a09fe-aca2-443b-ae32-f699eee868a1",
   "metadata": {},
   "outputs": [
    {
     "data": {
      "text/html": [
       "<div>\n",
       "<style scoped>\n",
       "    .dataframe tbody tr th:only-of-type {\n",
       "        vertical-align: middle;\n",
       "    }\n",
       "\n",
       "    .dataframe tbody tr th {\n",
       "        vertical-align: top;\n",
       "    }\n",
       "\n",
       "    .dataframe thead th {\n",
       "        text-align: right;\n",
       "    }\n",
       "</style>\n",
       "<table border=\"1\" class=\"dataframe\">\n",
       "  <thead>\n",
       "    <tr style=\"text-align: right;\">\n",
       "      <th></th>\n",
       "      <th>date</th>\n",
       "      <th>fiscal_year</th>\n",
       "      <th>quarter</th>\n",
       "    </tr>\n",
       "  </thead>\n",
       "  <tbody>\n",
       "    <tr>\n",
       "      <th>0</th>\n",
       "      <td>01-Apr-21</td>\n",
       "      <td>2022</td>\n",
       "      <td>Q1</td>\n",
       "    </tr>\n",
       "    <tr>\n",
       "      <th>1</th>\n",
       "      <td>01-May-21</td>\n",
       "      <td>2022</td>\n",
       "      <td>Q1</td>\n",
       "    </tr>\n",
       "    <tr>\n",
       "      <th>2</th>\n",
       "      <td>01-Jun-21</td>\n",
       "      <td>2022</td>\n",
       "      <td>Q1</td>\n",
       "    </tr>\n",
       "    <tr>\n",
       "      <th>3</th>\n",
       "      <td>01-Jul-21</td>\n",
       "      <td>2022</td>\n",
       "      <td>Q2</td>\n",
       "    </tr>\n",
       "    <tr>\n",
       "      <th>4</th>\n",
       "      <td>01-Aug-21</td>\n",
       "      <td>2022</td>\n",
       "      <td>Q2</td>\n",
       "    </tr>\n",
       "  </tbody>\n",
       "</table>\n",
       "</div>"
      ],
      "text/plain": [
       "        date  fiscal_year quarter\n",
       "0  01-Apr-21         2022      Q1\n",
       "1  01-May-21         2022      Q1\n",
       "2  01-Jun-21         2022      Q1\n",
       "3  01-Jul-21         2022      Q2\n",
       "4  01-Aug-21         2022      Q2"
      ]
     },
     "execution_count": 4,
     "metadata": {},
     "output_type": "execute_result"
    }
   ],
   "source": [
    "df.head()"
   ]
  },
  {
   "cell_type": "code",
   "execution_count": 5,
   "id": "aedafa31-36a2-481d-a690-d043b6c001c7",
   "metadata": {},
   "outputs": [
    {
     "data": {
      "text/html": [
       "<div>\n",
       "<style scoped>\n",
       "    .dataframe tbody tr th:only-of-type {\n",
       "        vertical-align: middle;\n",
       "    }\n",
       "\n",
       "    .dataframe tbody tr th {\n",
       "        vertical-align: top;\n",
       "    }\n",
       "\n",
       "    .dataframe thead th {\n",
       "        text-align: right;\n",
       "    }\n",
       "</style>\n",
       "<table border=\"1\" class=\"dataframe\">\n",
       "  <thead>\n",
       "    <tr style=\"text-align: right;\">\n",
       "      <th></th>\n",
       "      <th>date</th>\n",
       "      <th>vehicle_category</th>\n",
       "      <th>maker</th>\n",
       "      <th>electric_vehicles_sold</th>\n",
       "      <th>state</th>\n",
       "      <th>total_vehicles_sold</th>\n",
       "    </tr>\n",
       "  </thead>\n",
       "  <tbody>\n",
       "    <tr>\n",
       "      <th>0</th>\n",
       "      <td>01-Apr-21</td>\n",
       "      <td>2-Wheelers</td>\n",
       "      <td>OLA ELECTRIC</td>\n",
       "      <td>0.0</td>\n",
       "      <td>Sikkim</td>\n",
       "      <td>398</td>\n",
       "    </tr>\n",
       "    <tr>\n",
       "      <th>1</th>\n",
       "      <td>01-Apr-22</td>\n",
       "      <td>2-Wheelers</td>\n",
       "      <td>OKAYA EV</td>\n",
       "      <td>0.0</td>\n",
       "      <td>Sikkim</td>\n",
       "      <td>361</td>\n",
       "    </tr>\n",
       "    <tr>\n",
       "      <th>2</th>\n",
       "      <td>01-May-21</td>\n",
       "      <td>2-Wheelers</td>\n",
       "      <td>OLA ELECTRIC</td>\n",
       "      <td>0.0</td>\n",
       "      <td>Sikkim</td>\n",
       "      <td>113</td>\n",
       "    </tr>\n",
       "    <tr>\n",
       "      <th>3</th>\n",
       "      <td>01-Jun-21</td>\n",
       "      <td>2-Wheelers</td>\n",
       "      <td>OLA ELECTRIC</td>\n",
       "      <td>0.0</td>\n",
       "      <td>Sikkim</td>\n",
       "      <td>98</td>\n",
       "    </tr>\n",
       "    <tr>\n",
       "      <th>4</th>\n",
       "      <td>01-Jul-21</td>\n",
       "      <td>2-Wheelers</td>\n",
       "      <td>OLA ELECTRIC</td>\n",
       "      <td>0.0</td>\n",
       "      <td>Sikkim</td>\n",
       "      <td>229</td>\n",
       "    </tr>\n",
       "  </tbody>\n",
       "</table>\n",
       "</div>"
      ],
      "text/plain": [
       "        date vehicle_category         maker  electric_vehicles_sold   state  \\\n",
       "0  01-Apr-21       2-Wheelers  OLA ELECTRIC                     0.0  Sikkim   \n",
       "1  01-Apr-22       2-Wheelers      OKAYA EV                     0.0  Sikkim   \n",
       "2  01-May-21       2-Wheelers  OLA ELECTRIC                     0.0  Sikkim   \n",
       "3  01-Jun-21       2-Wheelers  OLA ELECTRIC                     0.0  Sikkim   \n",
       "4  01-Jul-21       2-Wheelers  OLA ELECTRIC                     0.0  Sikkim   \n",
       "\n",
       "   total_vehicles_sold  \n",
       "0                  398  \n",
       "1                  361  \n",
       "2                  113  \n",
       "3                   98  \n",
       "4                  229  "
      ]
     },
     "execution_count": 5,
     "metadata": {},
     "output_type": "execute_result"
    }
   ],
   "source": [
    "df2.head()"
   ]
  },
  {
   "cell_type": "code",
   "execution_count": 6,
   "id": "0803c03c-085a-4eda-aacd-4263717cf436",
   "metadata": {},
   "outputs": [],
   "source": [
    "final_df=df.merge(df2)"
   ]
  },
  {
   "cell_type": "code",
   "execution_count": 7,
   "id": "1095fe05-5c64-49f7-a77d-174b542fb628",
   "metadata": {},
   "outputs": [
    {
     "data": {
      "text/html": [
       "<div>\n",
       "<style scoped>\n",
       "    .dataframe tbody tr th:only-of-type {\n",
       "        vertical-align: middle;\n",
       "    }\n",
       "\n",
       "    .dataframe tbody tr th {\n",
       "        vertical-align: top;\n",
       "    }\n",
       "\n",
       "    .dataframe thead th {\n",
       "        text-align: right;\n",
       "    }\n",
       "</style>\n",
       "<table border=\"1\" class=\"dataframe\">\n",
       "  <thead>\n",
       "    <tr style=\"text-align: right;\">\n",
       "      <th></th>\n",
       "      <th>date</th>\n",
       "      <th>fiscal_year</th>\n",
       "      <th>quarter</th>\n",
       "      <th>vehicle_category</th>\n",
       "      <th>maker</th>\n",
       "      <th>electric_vehicles_sold</th>\n",
       "      <th>state</th>\n",
       "      <th>total_vehicles_sold</th>\n",
       "    </tr>\n",
       "  </thead>\n",
       "  <tbody>\n",
       "    <tr>\n",
       "      <th>0</th>\n",
       "      <td>01-Apr-21</td>\n",
       "      <td>2022</td>\n",
       "      <td>Q1</td>\n",
       "      <td>2-Wheelers</td>\n",
       "      <td>OLA ELECTRIC</td>\n",
       "      <td>0.0</td>\n",
       "      <td>Sikkim</td>\n",
       "      <td>398</td>\n",
       "    </tr>\n",
       "    <tr>\n",
       "      <th>1</th>\n",
       "      <td>01-Apr-21</td>\n",
       "      <td>2022</td>\n",
       "      <td>Q1</td>\n",
       "      <td>4-Wheelers</td>\n",
       "      <td>BYD India</td>\n",
       "      <td>0.0</td>\n",
       "      <td>Sikkim</td>\n",
       "      <td>408</td>\n",
       "    </tr>\n",
       "    <tr>\n",
       "      <th>2</th>\n",
       "      <td>01-Apr-21</td>\n",
       "      <td>2022</td>\n",
       "      <td>Q1</td>\n",
       "      <td>4-Wheelers</td>\n",
       "      <td>PCA Automobiles</td>\n",
       "      <td>0.0</td>\n",
       "      <td>Sikkim</td>\n",
       "      <td>540</td>\n",
       "    </tr>\n",
       "    <tr>\n",
       "      <th>3</th>\n",
       "      <td>01-Apr-21</td>\n",
       "      <td>2022</td>\n",
       "      <td>Q1</td>\n",
       "      <td>4-Wheelers</td>\n",
       "      <td>BMW India</td>\n",
       "      <td>0.0</td>\n",
       "      <td>Sikkim</td>\n",
       "      <td>355</td>\n",
       "    </tr>\n",
       "    <tr>\n",
       "      <th>4</th>\n",
       "      <td>01-Apr-21</td>\n",
       "      <td>2022</td>\n",
       "      <td>Q1</td>\n",
       "      <td>4-Wheelers</td>\n",
       "      <td>Volvo Auto India</td>\n",
       "      <td>0.0</td>\n",
       "      <td>Sikkim</td>\n",
       "      <td>455</td>\n",
       "    </tr>\n",
       "  </tbody>\n",
       "</table>\n",
       "</div>"
      ],
      "text/plain": [
       "        date  fiscal_year quarter vehicle_category             maker  \\\n",
       "0  01-Apr-21         2022      Q1       2-Wheelers      OLA ELECTRIC   \n",
       "1  01-Apr-21         2022      Q1       4-Wheelers         BYD India   \n",
       "2  01-Apr-21         2022      Q1       4-Wheelers   PCA Automobiles   \n",
       "3  01-Apr-21         2022      Q1       4-Wheelers         BMW India   \n",
       "4  01-Apr-21         2022      Q1       4-Wheelers  Volvo Auto India   \n",
       "\n",
       "   electric_vehicles_sold   state  total_vehicles_sold  \n",
       "0                     0.0  Sikkim                  398  \n",
       "1                     0.0  Sikkim                  408  \n",
       "2                     0.0  Sikkim                  540  \n",
       "3                     0.0  Sikkim                  355  \n",
       "4                     0.0  Sikkim                  455  "
      ]
     },
     "execution_count": 7,
     "metadata": {},
     "output_type": "execute_result"
    }
   ],
   "source": [
    "final_df.head()"
   ]
  },
  {
   "cell_type": "markdown",
   "id": "c4577d14-ad65-480a-9c1d-912e22d5cc9c",
   "metadata": {},
   "source": [
    "            Q1.List the top 3 and bottom 3 makers for the fiscal years 2023 and 2024 in terms of the number of wheelers sold."
   ]
  },
  {
   "cell_type": "code",
   "execution_count": 8,
   "id": "7397fe03-b0bb-472e-9235-c65e8fcf9978",
   "metadata": {},
   "outputs": [],
   "source": [
    "#TOP 3 Maker for the fiscal years 2023 in terms of the number of 2-wheelers sold\n",
    "dfw=final_df[final_df[\"fiscal_year\"]==2023]                                  "
   ]
  },
  {
   "cell_type": "code",
   "execution_count": 9,
   "id": "5f3796bf-84f9-49b1-af65-7482e5b4010e",
   "metadata": {},
   "outputs": [],
   "source": [
    "dfo=dfw[dfw[\"vehicle_category\"]==\"2-Wheelers\"]"
   ]
  },
  {
   "cell_type": "code",
   "execution_count": 10,
   "id": "8212f1e3-4376-45ff-a193-3dc768f5a70e",
   "metadata": {},
   "outputs": [],
   "source": [
    "dfe=dfo.sort_values(by=\"total_vehicles_sold\",ascending=False)"
   ]
  },
  {
   "cell_type": "code",
   "execution_count": 11,
   "id": "8696dee8-c759-4f0a-b831-54b8d60b9741",
   "metadata": {},
   "outputs": [],
   "source": [
    "dfp = dfe.groupby(\"maker\")['total_vehicles_sold'].sum().reset_index()"
   ]
  },
  {
   "cell_type": "code",
   "execution_count": 12,
   "id": "8d7ed7aa-cd2d-4673-9e9f-3eb8b74778d2",
   "metadata": {},
   "outputs": [],
   "source": [
    "dfi = dfp.sort_values(by='total_vehicles_sold', ascending=False)\n"
   ]
  },
  {
   "cell_type": "code",
   "execution_count": 13,
   "id": "ccd47a67-5344-4690-882f-2bbb2a89cfd1",
   "metadata": {},
   "outputs": [
    {
     "data": {
      "text/html": [
       "<div>\n",
       "<style scoped>\n",
       "    .dataframe tbody tr th:only-of-type {\n",
       "        vertical-align: middle;\n",
       "    }\n",
       "\n",
       "    .dataframe tbody tr th {\n",
       "        vertical-align: top;\n",
       "    }\n",
       "\n",
       "    .dataframe thead th {\n",
       "        text-align: right;\n",
       "    }\n",
       "</style>\n",
       "<table border=\"1\" class=\"dataframe\">\n",
       "  <thead>\n",
       "    <tr style=\"text-align: right;\">\n",
       "      <th></th>\n",
       "      <th>maker</th>\n",
       "      <th>total_vehicles_sold</th>\n",
       "    </tr>\n",
       "  </thead>\n",
       "  <tbody>\n",
       "    <tr>\n",
       "      <th>5</th>\n",
       "      <td>JITENDRA</td>\n",
       "      <td>104592</td>\n",
       "    </tr>\n",
       "    <tr>\n",
       "      <th>4</th>\n",
       "      <td>HERO ELECTRIC</td>\n",
       "      <td>101212</td>\n",
       "    </tr>\n",
       "    <tr>\n",
       "      <th>11</th>\n",
       "      <td>REVOLT</td>\n",
       "      <td>96953</td>\n",
       "    </tr>\n",
       "  </tbody>\n",
       "</table>\n",
       "</div>"
      ],
      "text/plain": [
       "            maker  total_vehicles_sold\n",
       "5        JITENDRA               104592\n",
       "4   HERO ELECTRIC               101212\n",
       "11         REVOLT                96953"
      ]
     },
     "execution_count": 13,
     "metadata": {},
     "output_type": "execute_result"
    }
   ],
   "source": [
    "dfi.head(3)"
   ]
  },
  {
   "cell_type": "code",
   "execution_count": 14,
   "id": "8ec0eed4-5c64-4133-8faf-81eff04765ce",
   "metadata": {},
   "outputs": [],
   "source": [
    "#Bottom 3 Maker for the fiscal years 2023 in terms of the number of wheelers sold\n",
    "dfw=final_df[final_df[\"fiscal_year\"]==2023]\n",
    "dfo=dfw[dfw[\"vehicle_category\"]==\"2-Wheelers\"]\n",
    "dfe=dfo.sort_values(by=\"total_vehicles_sold\",ascending=True)\n",
    "dfp = dfe.groupby(\"maker\")['total_vehicles_sold'].sum().reset_index()\n",
    "dfi = dfp.sort_values(by='total_vehicles_sold')"
   ]
  },
  {
   "cell_type": "code",
   "execution_count": 15,
   "id": "81d441e8-5a65-4efe-8540-f69f9845a4e0",
   "metadata": {},
   "outputs": [
    {
     "data": {
      "text/html": [
       "<div>\n",
       "<style scoped>\n",
       "    .dataframe tbody tr th:only-of-type {\n",
       "        vertical-align: middle;\n",
       "    }\n",
       "\n",
       "    .dataframe tbody tr th {\n",
       "        vertical-align: top;\n",
       "    }\n",
       "\n",
       "    .dataframe thead th {\n",
       "        text-align: right;\n",
       "    }\n",
       "</style>\n",
       "<table border=\"1\" class=\"dataframe\">\n",
       "  <thead>\n",
       "    <tr style=\"text-align: right;\">\n",
       "      <th></th>\n",
       "      <th>maker</th>\n",
       "      <th>total_vehicles_sold</th>\n",
       "    </tr>\n",
       "  </thead>\n",
       "  <tbody>\n",
       "    <tr>\n",
       "      <th>7</th>\n",
       "      <td>OKINAWA</td>\n",
       "      <td>48562</td>\n",
       "    </tr>\n",
       "    <tr>\n",
       "      <th>6</th>\n",
       "      <td>OKAYA EV</td>\n",
       "      <td>55655</td>\n",
       "    </tr>\n",
       "    <tr>\n",
       "      <th>3</th>\n",
       "      <td>BEING</td>\n",
       "      <td>62662</td>\n",
       "    </tr>\n",
       "  </tbody>\n",
       "</table>\n",
       "</div>"
      ],
      "text/plain": [
       "      maker  total_vehicles_sold\n",
       "7   OKINAWA                48562\n",
       "6  OKAYA EV                55655\n",
       "3     BEING                62662"
      ]
     },
     "execution_count": 15,
     "metadata": {},
     "output_type": "execute_result"
    }
   ],
   "source": [
    "dfi.head(3)"
   ]
  },
  {
   "cell_type": "code",
   "execution_count": 46,
   "id": "e7ae5bea-5d87-447b-8cec-231c5b535995",
   "metadata": {},
   "outputs": [],
   "source": [
    "#TOP 3 Maker for the fiscal years 2024 in terms of the number of wheelers sold\n",
    "dfu=final_df[final_df[\"fiscal_year\"]==2024]\n",
    "dfk=dfu[dfu[\"vehicle_category\"]==\"2-Wheelers\"]\n",
    "dft=dfk.sort_values(by=\"total_vehicles_sold\",ascending=False)\n",
    "dfn = dft.groupby(\"maker\")['total_vehicles_sold'].sum().reset_index()\n",
    "dfd = dfn.sort_values(by='total_vehicles_sold')"
   ]
  },
  {
   "cell_type": "code",
   "execution_count": 47,
   "id": "fc40b3fd-13e5-4b89-bb69-2dc8c3cd8d04",
   "metadata": {},
   "outputs": [
    {
     "data": {
      "text/html": [
       "<div>\n",
       "<style scoped>\n",
       "    .dataframe tbody tr th:only-of-type {\n",
       "        vertical-align: middle;\n",
       "    }\n",
       "\n",
       "    .dataframe tbody tr th {\n",
       "        vertical-align: top;\n",
       "    }\n",
       "\n",
       "    .dataframe thead th {\n",
       "        text-align: right;\n",
       "    }\n",
       "</style>\n",
       "<table border=\"1\" class=\"dataframe\">\n",
       "  <thead>\n",
       "    <tr style=\"text-align: right;\">\n",
       "      <th></th>\n",
       "      <th>maker</th>\n",
       "      <th>total_vehicles_sold</th>\n",
       "    </tr>\n",
       "  </thead>\n",
       "  <tbody>\n",
       "    <tr>\n",
       "      <th>3</th>\n",
       "      <td>BATTRE ELECTRIC</td>\n",
       "      <td>49319</td>\n",
       "    </tr>\n",
       "    <tr>\n",
       "      <th>2</th>\n",
       "      <td>BAJAJ</td>\n",
       "      <td>53413</td>\n",
       "    </tr>\n",
       "    <tr>\n",
       "      <th>10</th>\n",
       "      <td>OTHERS</td>\n",
       "      <td>54174</td>\n",
       "    </tr>\n",
       "  </tbody>\n",
       "</table>\n",
       "</div>"
      ],
      "text/plain": [
       "              maker  total_vehicles_sold\n",
       "3   BATTRE ELECTRIC                49319\n",
       "2             BAJAJ                53413\n",
       "10           OTHERS                54174"
      ]
     },
     "execution_count": 47,
     "metadata": {},
     "output_type": "execute_result"
    }
   ],
   "source": [
    "dfd.head(3)"
   ]
  },
  {
   "cell_type": "code",
   "execution_count": 18,
   "id": "b7463d2f-f6ba-48d8-bd11-5aa0f3070b76",
   "metadata": {},
   "outputs": [],
   "source": [
    "#Bottom 3 Maker for the fiscal years 2024 in terms of the number of wheelers sold\n",
    "dfw=final_df[final_df[\"fiscal_year\"]==2024]\n",
    "dfo=dfw[dfw[\"vehicle_category\"]==\"2-Wheelers\"]\n",
    "dfe=dfo.sort_values(by=\"total_vehicles_sold\",ascending=True)\n",
    "dfp = dfe.groupby(\"maker\")['total_vehicles_sold'].sum().reset_index()\n",
    "dfi = dfp.sort_values(by='total_vehicles_sold')"
   ]
  },
  {
   "cell_type": "markdown",
   "id": "a524dfe3-4094-4dc0-b991-e00e7753088b",
   "metadata": {},
   "source": [
    "# tt2.head(2)"
   ]
  },
  {
   "cell_type": "code",
   "execution_count": 19,
   "id": "93809ac8-eeaf-4f0b-86fb-ae43b0acdfa0",
   "metadata": {},
   "outputs": [
    {
     "data": {
      "text/html": [
       "<div>\n",
       "<style scoped>\n",
       "    .dataframe tbody tr th:only-of-type {\n",
       "        vertical-align: middle;\n",
       "    }\n",
       "\n",
       "    .dataframe tbody tr th {\n",
       "        vertical-align: top;\n",
       "    }\n",
       "\n",
       "    .dataframe thead th {\n",
       "        text-align: right;\n",
       "    }\n",
       "</style>\n",
       "<table border=\"1\" class=\"dataframe\">\n",
       "  <thead>\n",
       "    <tr style=\"text-align: right;\">\n",
       "      <th></th>\n",
       "      <th>maker</th>\n",
       "      <th>total_vehicles_sold</th>\n",
       "    </tr>\n",
       "  </thead>\n",
       "  <tbody>\n",
       "    <tr>\n",
       "      <th>3</th>\n",
       "      <td>BATTRE ELECTRIC</td>\n",
       "      <td>49319</td>\n",
       "    </tr>\n",
       "    <tr>\n",
       "      <th>2</th>\n",
       "      <td>BAJAJ</td>\n",
       "      <td>53413</td>\n",
       "    </tr>\n",
       "    <tr>\n",
       "      <th>10</th>\n",
       "      <td>OTHERS</td>\n",
       "      <td>54174</td>\n",
       "    </tr>\n",
       "  </tbody>\n",
       "</table>\n",
       "</div>"
      ],
      "text/plain": [
       "              maker  total_vehicles_sold\n",
       "3   BATTRE ELECTRIC                49319\n",
       "2             BAJAJ                53413\n",
       "10           OTHERS                54174"
      ]
     },
     "execution_count": 19,
     "metadata": {},
     "output_type": "execute_result"
    }
   ],
   "source": [
    "dfi.head(3)"
   ]
  },
  {
   "cell_type": "code",
   "execution_count": 20,
   "id": "659e7d0f-987a-49a8-9e94-1026f0be2d74",
   "metadata": {},
   "outputs": [
    {
     "data": {
      "text/html": [
       "<div>\n",
       "<style scoped>\n",
       "    .dataframe tbody tr th:only-of-type {\n",
       "        vertical-align: middle;\n",
       "    }\n",
       "\n",
       "    .dataframe tbody tr th {\n",
       "        vertical-align: top;\n",
       "    }\n",
       "\n",
       "    .dataframe thead th {\n",
       "        text-align: right;\n",
       "    }\n",
       "</style>\n",
       "<table border=\"1\" class=\"dataframe\">\n",
       "  <thead>\n",
       "    <tr style=\"text-align: right;\">\n",
       "      <th></th>\n",
       "      <th>date</th>\n",
       "      <th>fiscal_year</th>\n",
       "      <th>quarter</th>\n",
       "      <th>vehicle_category</th>\n",
       "      <th>maker</th>\n",
       "      <th>electric_vehicles_sold</th>\n",
       "      <th>state</th>\n",
       "      <th>total_vehicles_sold</th>\n",
       "    </tr>\n",
       "  </thead>\n",
       "  <tbody>\n",
       "    <tr>\n",
       "      <th>0</th>\n",
       "      <td>01-Apr-21</td>\n",
       "      <td>2022</td>\n",
       "      <td>Q1</td>\n",
       "      <td>2-Wheelers</td>\n",
       "      <td>OLA ELECTRIC</td>\n",
       "      <td>0.0</td>\n",
       "      <td>Sikkim</td>\n",
       "      <td>398</td>\n",
       "    </tr>\n",
       "    <tr>\n",
       "      <th>1</th>\n",
       "      <td>01-Apr-21</td>\n",
       "      <td>2022</td>\n",
       "      <td>Q1</td>\n",
       "      <td>4-Wheelers</td>\n",
       "      <td>BYD India</td>\n",
       "      <td>0.0</td>\n",
       "      <td>Sikkim</td>\n",
       "      <td>408</td>\n",
       "    </tr>\n",
       "    <tr>\n",
       "      <th>2</th>\n",
       "      <td>01-Apr-21</td>\n",
       "      <td>2022</td>\n",
       "      <td>Q1</td>\n",
       "      <td>4-Wheelers</td>\n",
       "      <td>PCA Automobiles</td>\n",
       "      <td>0.0</td>\n",
       "      <td>Sikkim</td>\n",
       "      <td>540</td>\n",
       "    </tr>\n",
       "    <tr>\n",
       "      <th>3</th>\n",
       "      <td>01-Apr-21</td>\n",
       "      <td>2022</td>\n",
       "      <td>Q1</td>\n",
       "      <td>4-Wheelers</td>\n",
       "      <td>BMW India</td>\n",
       "      <td>0.0</td>\n",
       "      <td>Sikkim</td>\n",
       "      <td>355</td>\n",
       "    </tr>\n",
       "    <tr>\n",
       "      <th>4</th>\n",
       "      <td>01-Apr-21</td>\n",
       "      <td>2022</td>\n",
       "      <td>Q1</td>\n",
       "      <td>4-Wheelers</td>\n",
       "      <td>Volvo Auto India</td>\n",
       "      <td>0.0</td>\n",
       "      <td>Sikkim</td>\n",
       "      <td>455</td>\n",
       "    </tr>\n",
       "  </tbody>\n",
       "</table>\n",
       "</div>"
      ],
      "text/plain": [
       "        date  fiscal_year quarter vehicle_category             maker  \\\n",
       "0  01-Apr-21         2022      Q1       2-Wheelers      OLA ELECTRIC   \n",
       "1  01-Apr-21         2022      Q1       4-Wheelers         BYD India   \n",
       "2  01-Apr-21         2022      Q1       4-Wheelers   PCA Automobiles   \n",
       "3  01-Apr-21         2022      Q1       4-Wheelers         BMW India   \n",
       "4  01-Apr-21         2022      Q1       4-Wheelers  Volvo Auto India   \n",
       "\n",
       "   electric_vehicles_sold   state  total_vehicles_sold  \n",
       "0                     0.0  Sikkim                  398  \n",
       "1                     0.0  Sikkim                  408  \n",
       "2                     0.0  Sikkim                  540  \n",
       "3                     0.0  Sikkim                  355  \n",
       "4                     0.0  Sikkim                  455  "
      ]
     },
     "execution_count": 20,
     "metadata": {},
     "output_type": "execute_result"
    }
   ],
   "source": [
    "final_df.head()"
   ]
  },
  {
   "cell_type": "markdown",
   "id": "8eea22b7-253d-4fea-94cd-c131f9c78499",
   "metadata": {},
   "source": [
    "                     Q4.What are the quarterly trends based on sales volume for the top 5 EV makers (4-wheelers) from 2022 to 2024?"
   ]
  },
  {
   "cell_type": "code",
   "execution_count": 52,
   "id": "21c49745-32d4-4746-9523-cfaaba38d24d",
   "metadata": {},
   "outputs": [],
   "source": [
    "# Assuming you want to filter for rows where 'vehicle_category' is equal to 4\n",
    "filtered_df = final_df[final_df[\"vehicle_category\"] == \"4-Wheelers\"]\n",
    "\n",
    "# Group the filtered data by 'quarter' and 'maker', then sum the 'total_vehicles_sold'\n",
    "smart_counts = filtered_df.groupby([\"quarter\", \"maker\"])[\"total_vehicles_sold\"].sum()\n",
    "\n",
    "# 'smart_counts' now contains the sum of 'total_vehicles_sold' for each group\n"
   ]
  },
  {
   "cell_type": "code",
   "execution_count": 53,
   "id": "c5cdd6b8-e5ce-407b-8560-e3945f85c523",
   "metadata": {},
   "outputs": [],
   "source": [
    "smart_counts2=smart_counts.sort_values(ascending=False)"
   ]
  },
  {
   "cell_type": "code",
   "execution_count": 54,
   "id": "17c77302-1682-4a54-b81a-c7a487f3ab03",
   "metadata": {},
   "outputs": [
    {
     "data": {
      "text/plain": [
       "([<matplotlib.patches.Wedge at 0x16ad40cf290>,\n",
       "  <matplotlib.patches.Wedge at 0x16ad40cf170>,\n",
       "  <matplotlib.patches.Wedge at 0x16ad40f1e80>,\n",
       "  <matplotlib.patches.Wedge at 0x16ad40f2450>,\n",
       "  <matplotlib.patches.Wedge at 0x16ad40f2a50>],\n",
       " [Text(0.6046472118594988, 0.9189133523845078, \"('Q1', 'MG Motor')\"),\n",
       "  Text(-1.0155078603587038, 0.42278101370530763, \"('Q2', 'Mahindra & Mahindra')\"),\n",
       "  Text(-0.7044556500969317, -0.8448326680748736, \"('Q4', 'Mahindra & Mahindra')\"),\n",
       "  Text(0.30793476003314796, -1.0560190261369953, \"('Q2', 'Hyundai Motor')\"),\n",
       "  Text(1.0112093043679244, -0.4329615950170852, \"('Q2', 'BYD India')\")],\n",
       " [Text(0.3298075701051811, 0.5012254649370042, '31.5%'),\n",
       "  Text(-0.5539133783774748, 0.2306078256574405, '24.5%'),\n",
       "  Text(-0.3842485364165082, -0.46081781894993096, '15.9%'),\n",
       "  Text(0.16796441456353525, -0.5760103778929064, '15.2%'),\n",
       "  Text(0.5515687114734132, -0.23616087000931918, '12.9%')])"
      ]
     },
     "execution_count": 54,
     "metadata": {},
     "output_type": "execute_result"
    },
    {
     "data": {
      "image/png": "[encoded data removed]",
      "text/plain": [
       "<Figure size 640x480 with 1 Axes>"
      ]
     },
     "metadata": {},
     "output_type": "display_data"
    }
   ],
   "source": [
    "plt.pie(smart_counts2[:5],labels=smart_counts2.index[:5],autopct=\"%1.1f%%\")"
   ]
  },
  {
   "cell_type": "markdown",
   "id": "4bc3b3a6-1b9a-47e1-86be-a0f730e76098",
   "metadata": {},
   "source": [
    "                            #CONCLUSION:->\n",
    "                            1.So here  u can see that The top makers are:-\n",
    "                            MGMOTOR\n",
    "                            BYD INDIA\n",
    "                            HYUNDAI MOTOR\n",
    "                            MAHINDRA AND MAHINDRA\n",
    "                            VOLVO AUTO INDIA"
   ]
  },
  {
   "cell_type": "code",
   "execution_count": 24,
   "id": "0f8a379a-1beb-43af-980f-a179d13e272e",
   "metadata": {},
   "outputs": [
    {
     "data": {
      "text/html": [
       "<div>\n",
       "<style scoped>\n",
       "    .dataframe tbody tr th:only-of-type {\n",
       "        vertical-align: middle;\n",
       "    }\n",
       "\n",
       "    .dataframe tbody tr th {\n",
       "        vertical-align: top;\n",
       "    }\n",
       "\n",
       "    .dataframe thead th {\n",
       "        text-align: right;\n",
       "    }\n",
       "</style>\n",
       "<table border=\"1\" class=\"dataframe\">\n",
       "  <thead>\n",
       "    <tr style=\"text-align: right;\">\n",
       "      <th></th>\n",
       "      <th>date</th>\n",
       "      <th>fiscal_year</th>\n",
       "      <th>quarter</th>\n",
       "      <th>vehicle_category</th>\n",
       "      <th>maker</th>\n",
       "      <th>electric_vehicles_sold</th>\n",
       "      <th>state</th>\n",
       "      <th>total_vehicles_sold</th>\n",
       "    </tr>\n",
       "  </thead>\n",
       "  <tbody>\n",
       "    <tr>\n",
       "      <th>0</th>\n",
       "      <td>01-Apr-21</td>\n",
       "      <td>2022</td>\n",
       "      <td>Q1</td>\n",
       "      <td>2-Wheelers</td>\n",
       "      <td>OLA ELECTRIC</td>\n",
       "      <td>0.0</td>\n",
       "      <td>Sikkim</td>\n",
       "      <td>398</td>\n",
       "    </tr>\n",
       "    <tr>\n",
       "      <th>1</th>\n",
       "      <td>01-Apr-21</td>\n",
       "      <td>2022</td>\n",
       "      <td>Q1</td>\n",
       "      <td>4-Wheelers</td>\n",
       "      <td>BYD India</td>\n",
       "      <td>0.0</td>\n",
       "      <td>Sikkim</td>\n",
       "      <td>408</td>\n",
       "    </tr>\n",
       "    <tr>\n",
       "      <th>2</th>\n",
       "      <td>01-Apr-21</td>\n",
       "      <td>2022</td>\n",
       "      <td>Q1</td>\n",
       "      <td>4-Wheelers</td>\n",
       "      <td>PCA Automobiles</td>\n",
       "      <td>0.0</td>\n",
       "      <td>Sikkim</td>\n",
       "      <td>540</td>\n",
       "    </tr>\n",
       "    <tr>\n",
       "      <th>3</th>\n",
       "      <td>01-Apr-21</td>\n",
       "      <td>2022</td>\n",
       "      <td>Q1</td>\n",
       "      <td>4-Wheelers</td>\n",
       "      <td>BMW India</td>\n",
       "      <td>0.0</td>\n",
       "      <td>Sikkim</td>\n",
       "      <td>355</td>\n",
       "    </tr>\n",
       "    <tr>\n",
       "      <th>4</th>\n",
       "      <td>01-Apr-21</td>\n",
       "      <td>2022</td>\n",
       "      <td>Q1</td>\n",
       "      <td>4-Wheelers</td>\n",
       "      <td>Volvo Auto India</td>\n",
       "      <td>0.0</td>\n",
       "      <td>Sikkim</td>\n",
       "      <td>455</td>\n",
       "    </tr>\n",
       "  </tbody>\n",
       "</table>\n",
       "</div>"
      ],
      "text/plain": [
       "        date  fiscal_year quarter vehicle_category             maker  \\\n",
       "0  01-Apr-21         2022      Q1       2-Wheelers      OLA ELECTRIC   \n",
       "1  01-Apr-21         2022      Q1       4-Wheelers         BYD India   \n",
       "2  01-Apr-21         2022      Q1       4-Wheelers   PCA Automobiles   \n",
       "3  01-Apr-21         2022      Q1       4-Wheelers         BMW India   \n",
       "4  01-Apr-21         2022      Q1       4-Wheelers  Volvo Auto India   \n",
       "\n",
       "   electric_vehicles_sold   state  total_vehicles_sold  \n",
       "0                     0.0  Sikkim                  398  \n",
       "1                     0.0  Sikkim                  408  \n",
       "2                     0.0  Sikkim                  540  \n",
       "3                     0.0  Sikkim                  355  \n",
       "4                     0.0  Sikkim                  455  "
      ]
     },
     "execution_count": 24,
     "metadata": {},
     "output_type": "execute_result"
    }
   ],
   "source": [
    "final_df.head()"
   ]
  },
  {
   "cell_type": "code",
   "execution_count": null,
   "id": "1c8a675d-bbab-41f2-9363-0d325cf1f619",
   "metadata": {},
   "outputs": [],
   "source": []
  },
  {
   "cell_type": "code",
   "execution_count": 25,
   "id": "62c9c8c1-ff81-4ba6-8338-b028ccf7e2d9",
   "metadata": {},
   "outputs": [],
   "source": [
    "# Calculate the penetration rate\n",
    "final_df['penetration_rate'] = (final_df['electric_vehicles_sold'] / final_df['total_vehicles_sold']) * 100\n"
   ]
  },
  {
   "cell_type": "code",
   "execution_count": 26,
   "id": "7c141ea8-c29b-469e-b585-c5ffe29775de",
   "metadata": {},
   "outputs": [],
   "source": [
    "df6=final_df[final_df[\"state\"]==\"Delhi\"]"
   ]
  },
  {
   "cell_type": "code",
   "execution_count": 27,
   "id": "87d590b4-d195-4e7b-a8e1-5039788b3d08",
   "metadata": {},
   "outputs": [],
   "source": [
    "dff=df6.head()"
   ]
  },
  {
   "cell_type": "code",
   "execution_count": 28,
   "id": "34d17f14-8504-470d-a520-04d27c091f6d",
   "metadata": {},
   "outputs": [
    {
     "data": {
      "text/html": [
       "<div>\n",
       "<style scoped>\n",
       "    .dataframe tbody tr th:only-of-type {\n",
       "        vertical-align: middle;\n",
       "    }\n",
       "\n",
       "    .dataframe tbody tr th {\n",
       "        vertical-align: top;\n",
       "    }\n",
       "\n",
       "    .dataframe thead th {\n",
       "        text-align: right;\n",
       "    }\n",
       "</style>\n",
       "<table border=\"1\" class=\"dataframe\">\n",
       "  <thead>\n",
       "    <tr style=\"text-align: right;\">\n",
       "      <th></th>\n",
       "      <th>date</th>\n",
       "      <th>fiscal_year</th>\n",
       "      <th>quarter</th>\n",
       "      <th>vehicle_category</th>\n",
       "      <th>maker</th>\n",
       "      <th>electric_vehicles_sold</th>\n",
       "      <th>state</th>\n",
       "      <th>total_vehicles_sold</th>\n",
       "      <th>penetration_rate</th>\n",
       "    </tr>\n",
       "  </thead>\n",
       "  <tbody>\n",
       "    <tr>\n",
       "      <th>186</th>\n",
       "      <td>01-Dec-21</td>\n",
       "      <td>2022</td>\n",
       "      <td>Q3</td>\n",
       "      <td>2-Wheelers</td>\n",
       "      <td>HERO ELECTRIC</td>\n",
       "      <td>6402.0</td>\n",
       "      <td>Delhi</td>\n",
       "      <td>9181</td>\n",
       "      <td>69.730966</td>\n",
       "    </tr>\n",
       "    <tr>\n",
       "      <th>212</th>\n",
       "      <td>01-Jan-22</td>\n",
       "      <td>2022</td>\n",
       "      <td>Q4</td>\n",
       "      <td>2-Wheelers</td>\n",
       "      <td>PURE EV</td>\n",
       "      <td>1691.0</td>\n",
       "      <td>Delhi</td>\n",
       "      <td>11782</td>\n",
       "      <td>14.352402</td>\n",
       "    </tr>\n",
       "    <tr>\n",
       "      <th>238</th>\n",
       "      <td>01-Feb-22</td>\n",
       "      <td>2022</td>\n",
       "      <td>Q4</td>\n",
       "      <td>2-Wheelers</td>\n",
       "      <td>BAJAJ</td>\n",
       "      <td>1372.0</td>\n",
       "      <td>Delhi</td>\n",
       "      <td>13659</td>\n",
       "      <td>10.044659</td>\n",
       "    </tr>\n",
       "    <tr>\n",
       "      <th>395</th>\n",
       "      <td>01-Sep-22</td>\n",
       "      <td>2023</td>\n",
       "      <td>Q2</td>\n",
       "      <td>2-Wheelers</td>\n",
       "      <td>BAJAJ</td>\n",
       "      <td>3649.0</td>\n",
       "      <td>Delhi</td>\n",
       "      <td>8076</td>\n",
       "      <td>45.183259</td>\n",
       "    </tr>\n",
       "    <tr>\n",
       "      <th>412</th>\n",
       "      <td>01-Oct-22</td>\n",
       "      <td>2023</td>\n",
       "      <td>Q3</td>\n",
       "      <td>2-Wheelers</td>\n",
       "      <td>OLA ELECTRIC</td>\n",
       "      <td>15391.0</td>\n",
       "      <td>Delhi</td>\n",
       "      <td>12914</td>\n",
       "      <td>119.180734</td>\n",
       "    </tr>\n",
       "  </tbody>\n",
       "</table>\n",
       "</div>"
      ],
      "text/plain": [
       "          date  fiscal_year quarter vehicle_category          maker  \\\n",
       "186  01-Dec-21         2022      Q3       2-Wheelers  HERO ELECTRIC   \n",
       "212  01-Jan-22         2022      Q4       2-Wheelers        PURE EV   \n",
       "238  01-Feb-22         2022      Q4       2-Wheelers          BAJAJ   \n",
       "395  01-Sep-22         2023      Q2       2-Wheelers          BAJAJ   \n",
       "412  01-Oct-22         2023      Q3       2-Wheelers   OLA ELECTRIC   \n",
       "\n",
       "     electric_vehicles_sold  state  total_vehicles_sold  penetration_rate  \n",
       "186                  6402.0  Delhi                 9181         69.730966  \n",
       "212                  1691.0  Delhi                11782         14.352402  \n",
       "238                  1372.0  Delhi                13659         10.044659  \n",
       "395                  3649.0  Delhi                 8076         45.183259  \n",
       "412                 15391.0  Delhi                12914        119.180734  "
      ]
     },
     "execution_count": 28,
     "metadata": {},
     "output_type": "execute_result"
    }
   ],
   "source": [
    "dff"
   ]
  },
  {
   "cell_type": "code",
   "execution_count": 29,
   "id": "0331f815-6d84-41ca-9664-429e8ed65afa",
   "metadata": {},
   "outputs": [
    {
     "data": {
      "image/png": "[encoded data removed]",
      "text/plain": [
       "<Figure size 640x480 with 1 Axes>"
      ]
     },
     "metadata": {},
     "output_type": "display_data"
    }
   ],
   "source": [
    "sns.barplot(x=\"electric_vehicles_sold\", y=\"penetration_rate\", data=dff, hue=\"vehicle_category\")\n",
    "plt.xlabel('Electric Vehicles Sold')\n",
    "plt.ylabel('Penetration Rate (%)')\n",
    "plt.title('Penetration Rate of Electric Vehicles by Number Sold in Delhi')\n",
    "\n",
    "# Display the plot\n",
    "plt.show()"
   ]
  },
  {
   "cell_type": "code",
   "execution_count": 30,
   "id": "e9c3de1d-b0db-407a-b589-a08efa021794",
   "metadata": {},
   "outputs": [],
   "source": [
    "df6=final_df[final_df[\"state\"]==\"Karnataka\"]"
   ]
  },
  {
   "cell_type": "code",
   "execution_count": 31,
   "id": "b36bda4d-9f70-47c5-9a13-fe950277db40",
   "metadata": {},
   "outputs": [],
   "source": [
    "dif=df6.head()"
   ]
  },
  {
   "cell_type": "code",
   "execution_count": 32,
   "id": "fff55470-ca7e-49e6-9fda-2961c23861dd",
   "metadata": {},
   "outputs": [
    {
     "data": {
      "image/png": "[encoded data removed]",
      "text/plain": [
       "<Figure size 640x480 with 1 Axes>"
      ]
     },
     "metadata": {},
     "output_type": "display_data"
    }
   ],
   "source": [
    "sns.barplot(x=\"electric_vehicles_sold\", y=\"penetration_rate\", data=dif, hue=\"vehicle_category\")\n",
    "plt.xlabel('Electric Vehicles Sold')\n",
    "plt.ylabel('Penetration Rate (%)')\n",
    "plt.title('Penetration Rate of Electric Vehicles by Number Sold in Karnatka')\n",
    "\n",
    "# Display the plot\n",
    "plt.show()"
   ]
  },
  {
   "cell_type": "code",
   "execution_count": 33,
   "id": "ce81b04c-3db8-49a5-b1bf-9f6b1b312c77",
   "metadata": {},
   "outputs": [
    {
     "data": {
      "text/html": [
       "<div>\n",
       "<style scoped>\n",
       "    .dataframe tbody tr th:only-of-type {\n",
       "        vertical-align: middle;\n",
       "    }\n",
       "\n",
       "    .dataframe tbody tr th {\n",
       "        vertical-align: top;\n",
       "    }\n",
       "\n",
       "    .dataframe thead th {\n",
       "        text-align: right;\n",
       "    }\n",
       "</style>\n",
       "<table border=\"1\" class=\"dataframe\">\n",
       "  <thead>\n",
       "    <tr style=\"text-align: right;\">\n",
       "      <th></th>\n",
       "      <th>date</th>\n",
       "      <th>fiscal_year</th>\n",
       "      <th>quarter</th>\n",
       "      <th>vehicle_category</th>\n",
       "      <th>maker</th>\n",
       "      <th>electric_vehicles_sold</th>\n",
       "      <th>state</th>\n",
       "      <th>total_vehicles_sold</th>\n",
       "      <th>penetration_rate</th>\n",
       "    </tr>\n",
       "  </thead>\n",
       "  <tbody>\n",
       "    <tr>\n",
       "      <th>0</th>\n",
       "      <td>01-Apr-21</td>\n",
       "      <td>2022</td>\n",
       "      <td>Q1</td>\n",
       "      <td>2-Wheelers</td>\n",
       "      <td>OLA ELECTRIC</td>\n",
       "      <td>0.0</td>\n",
       "      <td>Sikkim</td>\n",
       "      <td>398</td>\n",
       "      <td>0.0</td>\n",
       "    </tr>\n",
       "    <tr>\n",
       "      <th>1</th>\n",
       "      <td>01-Apr-21</td>\n",
       "      <td>2022</td>\n",
       "      <td>Q1</td>\n",
       "      <td>4-Wheelers</td>\n",
       "      <td>BYD India</td>\n",
       "      <td>0.0</td>\n",
       "      <td>Sikkim</td>\n",
       "      <td>408</td>\n",
       "      <td>0.0</td>\n",
       "    </tr>\n",
       "    <tr>\n",
       "      <th>2</th>\n",
       "      <td>01-Apr-21</td>\n",
       "      <td>2022</td>\n",
       "      <td>Q1</td>\n",
       "      <td>4-Wheelers</td>\n",
       "      <td>PCA Automobiles</td>\n",
       "      <td>0.0</td>\n",
       "      <td>Sikkim</td>\n",
       "      <td>540</td>\n",
       "      <td>0.0</td>\n",
       "    </tr>\n",
       "    <tr>\n",
       "      <th>3</th>\n",
       "      <td>01-Apr-21</td>\n",
       "      <td>2022</td>\n",
       "      <td>Q1</td>\n",
       "      <td>4-Wheelers</td>\n",
       "      <td>BMW India</td>\n",
       "      <td>0.0</td>\n",
       "      <td>Sikkim</td>\n",
       "      <td>355</td>\n",
       "      <td>0.0</td>\n",
       "    </tr>\n",
       "    <tr>\n",
       "      <th>4</th>\n",
       "      <td>01-Apr-21</td>\n",
       "      <td>2022</td>\n",
       "      <td>Q1</td>\n",
       "      <td>4-Wheelers</td>\n",
       "      <td>Volvo Auto India</td>\n",
       "      <td>0.0</td>\n",
       "      <td>Sikkim</td>\n",
       "      <td>455</td>\n",
       "      <td>0.0</td>\n",
       "    </tr>\n",
       "  </tbody>\n",
       "</table>\n",
       "</div>"
      ],
      "text/plain": [
       "        date  fiscal_year quarter vehicle_category             maker  \\\n",
       "0  01-Apr-21         2022      Q1       2-Wheelers      OLA ELECTRIC   \n",
       "1  01-Apr-21         2022      Q1       4-Wheelers         BYD India   \n",
       "2  01-Apr-21         2022      Q1       4-Wheelers   PCA Automobiles   \n",
       "3  01-Apr-21         2022      Q1       4-Wheelers         BMW India   \n",
       "4  01-Apr-21         2022      Q1       4-Wheelers  Volvo Auto India   \n",
       "\n",
       "   electric_vehicles_sold   state  total_vehicles_sold  penetration_rate  \n",
       "0                     0.0  Sikkim                  398               0.0  \n",
       "1                     0.0  Sikkim                  408               0.0  \n",
       "2                     0.0  Sikkim                  540               0.0  \n",
       "3                     0.0  Sikkim                  355               0.0  \n",
       "4                     0.0  Sikkim                  455               0.0  "
      ]
     },
     "execution_count": 33,
     "metadata": {},
     "output_type": "execute_result"
    }
   ],
   "source": [
    "final_df.head()"
   ]
  },
  {
   "cell_type": "markdown",
   "id": "5bba66c1-1a19-4e0e-a4ad-0fdc43899219",
   "metadata": {},
   "source": [
    "                                   Q8.What are the peak and low season months for EV sales based on the data from 2022 to 2024?"
   ]
  },
  {
   "cell_type": "code",
   "execution_count": 34,
   "id": "8aea76f9-63ee-4ee8-8ce3-665d3f86f45e",
   "metadata": {},
   "outputs": [],
   "source": [
    "final_df[\"Date\"]=final_df[\"date\"].str.split(\"-\").str[0]\n",
    "final_df[\"Month\"]=final_df[\"date\"].str.split(\"-\").str[1]\n",
    "final_df[\"Year\"]=final_df[\"date\"].str.split(\"-\").str[2]"
   ]
  },
  {
   "cell_type": "code",
   "execution_count": 55,
   "id": "9d2078e5-c464-4ddc-99d7-b5b146d039e2",
   "metadata": {},
   "outputs": [
    {
     "name": "stderr",
     "output_type": "stream",
     "text": [
      "C:\\Users\\anshm\\AppData\\Local\\Temp\\ipykernel_24060\\1187311793.py:1: FutureWarning: \n",
      "\n",
      "Passing `palette` without assigning `hue` is deprecated and will be removed in v0.14.0. Assign the `x` variable to `hue` and set `legend=False` for the same effect.\n",
      "\n",
      "  sns.barplot(x=\"Month\",y=\"electric_vehicles_sold\",data=final_df,palette='Set1')\n"
     ]
    },
    {
     "data": {
      "text/plain": [
       "<Axes: xlabel='Month', ylabel='electric_vehicles_sold'>"
      ]
     },
     "execution_count": 55,
     "metadata": {},
     "output_type": "execute_result"
    },
    {
     "data": {
      "image/png": "[encoded data removed]",
      "text/plain": [
       "<Figure size 640x480 with 1 Axes>"
      ]
     },
     "metadata": {},
     "output_type": "display_data"
    }
   ],
   "source": [
    "sns.barplot(x=\"Month\",y=\"electric_vehicles_sold\",data=final_df,palette='Set1')"
   ]
  },
  {
   "cell_type": "markdown",
   "id": "1b68ff11-c68a-4866-ad7e-79c9e400cb8c",
   "metadata": {},
   "source": [
    "                                  #Cocnlusion:->\n",
    "                                  1.The Peak month is March \n",
    "                                  2.The low month is Jun. "
   ]
  },
  {
   "cell_type": "code",
   "execution_count": 36,
   "id": "89e70339-da5f-4115-9d6b-1020a7e5d176",
   "metadata": {},
   "outputs": [],
   "source": [
    "four_wheeler_df = final_df[final_df['vehicle_category'] == '4-Wheelers']\n",
    "\n",
    "# Group the data by maker and fiscal year, summing up the total vehicles sold\n",
    "sales_by_maker_year = four_wheeler_df.groupby(['maker', 'fiscal_year'])['total_vehicles_sold'].sum().reset_index()\n",
    "\n",
    "# Pivot the data to get fiscal years as columns for easier CAGR calculation\n",
    "pivot_df = sales_by_maker_year.pivot(index='maker', columns='fiscal_year', values='total_vehicles_sold')\n",
    "\n",
    "# Fill any missing values with 0 (if a maker didn't sell any vehicles in a given year)\n",
    "pivot_df = pivot_df.fillna(0)\n",
    "\n",
    "# Calculate the CAGR for each maker from 2022 to 2024\n",
    "pivot_df['CAGR_2022_2024'] = ((pivot_df[2024] / pivot_df[2022]) ** (1/2) - 1) * 100\n",
    "\n",
    "# Sort by total sales in 2024 to find the top 5 makers\n",
    "top_5_makers = pivot_df.sort_values(by=2024, ascending=False).head(5)\n",
    "\n",
    "# Select relevant columns (2022, 2024 sales, and CAGR)\n",
    "top_5_makers = top_5_makers[[2022, 2024, 'CAGR_2022_2024']]\n",
    "\n",
    "# Display the result\n"
   ]
  },
  {
   "cell_type": "code",
   "execution_count": 37,
   "id": "ccc0c6b8-c6f1-435a-b445-1bfefa775ca4",
   "metadata": {},
   "outputs": [
    {
     "data": {
      "text/html": [
       "<div>\n",
       "<style scoped>\n",
       "    .dataframe tbody tr th:only-of-type {\n",
       "        vertical-align: middle;\n",
       "    }\n",
       "\n",
       "    .dataframe tbody tr th {\n",
       "        vertical-align: top;\n",
       "    }\n",
       "\n",
       "    .dataframe thead th {\n",
       "        text-align: right;\n",
       "    }\n",
       "</style>\n",
       "<table border=\"1\" class=\"dataframe\">\n",
       "  <thead>\n",
       "    <tr style=\"text-align: right;\">\n",
       "      <th>fiscal_year</th>\n",
       "      <th>2022</th>\n",
       "      <th>2024</th>\n",
       "      <th>CAGR_2022_2024</th>\n",
       "    </tr>\n",
       "    <tr>\n",
       "      <th>maker</th>\n",
       "      <th></th>\n",
       "      <th></th>\n",
       "      <th></th>\n",
       "    </tr>\n",
       "  </thead>\n",
       "  <tbody>\n",
       "    <tr>\n",
       "      <th>Mahindra &amp; Mahindra</th>\n",
       "      <td>14393</td>\n",
       "      <td>21867</td>\n",
       "      <td>23.259085</td>\n",
       "    </tr>\n",
       "    <tr>\n",
       "      <th>Volvo Auto India</th>\n",
       "      <td>11474</td>\n",
       "      <td>15202</td>\n",
       "      <td>15.104669</td>\n",
       "    </tr>\n",
       "    <tr>\n",
       "      <th>BMW India</th>\n",
       "      <td>5664</td>\n",
       "      <td>12690</td>\n",
       "      <td>49.681866</td>\n",
       "    </tr>\n",
       "    <tr>\n",
       "      <th>KIA Motors</th>\n",
       "      <td>5029</td>\n",
       "      <td>9198</td>\n",
       "      <td>35.240225</td>\n",
       "    </tr>\n",
       "    <tr>\n",
       "      <th>Mercedes -Benz AG</th>\n",
       "      <td>12931</td>\n",
       "      <td>8526</td>\n",
       "      <td>-18.799892</td>\n",
       "    </tr>\n",
       "  </tbody>\n",
       "</table>\n",
       "</div>"
      ],
      "text/plain": [
       "fiscal_year           2022   2024  CAGR_2022_2024\n",
       "maker                                            \n",
       "Mahindra & Mahindra  14393  21867       23.259085\n",
       "Volvo Auto India     11474  15202       15.104669\n",
       "BMW India             5664  12690       49.681866\n",
       "KIA Motors            5029   9198       35.240225\n",
       "Mercedes -Benz AG    12931   8526      -18.799892"
      ]
     },
     "execution_count": 37,
     "metadata": {},
     "output_type": "execute_result"
    }
   ],
   "source": [
    "top_5_makers"
   ]
  },
  {
   "cell_type": "code",
   "execution_count": 38,
   "id": "f28ffd81-11f0-48c3-994c-3d23c0ab04f7",
   "metadata": {},
   "outputs": [
    {
     "data": {
      "text/html": [
       "<div>\n",
       "<style scoped>\n",
       "    .dataframe tbody tr th:only-of-type {\n",
       "        vertical-align: middle;\n",
       "    }\n",
       "\n",
       "    .dataframe tbody tr th {\n",
       "        vertical-align: top;\n",
       "    }\n",
       "\n",
       "    .dataframe thead th {\n",
       "        text-align: right;\n",
       "    }\n",
       "</style>\n",
       "<table border=\"1\" class=\"dataframe\">\n",
       "  <thead>\n",
       "    <tr style=\"text-align: right;\">\n",
       "      <th>fiscal_year</th>\n",
       "      <th>2022</th>\n",
       "      <th>2024</th>\n",
       "      <th>CAGR_2022_2024</th>\n",
       "    </tr>\n",
       "    <tr>\n",
       "      <th>state</th>\n",
       "      <th></th>\n",
       "      <th></th>\n",
       "      <th></th>\n",
       "    </tr>\n",
       "  </thead>\n",
       "  <tbody>\n",
       "    <tr>\n",
       "      <th>Madhya Pradesh</th>\n",
       "      <td>0.0</td>\n",
       "      <td>195.0</td>\n",
       "      <td>inf</td>\n",
       "    </tr>\n",
       "    <tr>\n",
       "      <th>Assam</th>\n",
       "      <td>0.0</td>\n",
       "      <td>17463.0</td>\n",
       "      <td>inf</td>\n",
       "    </tr>\n",
       "    <tr>\n",
       "      <th>Punjab</th>\n",
       "      <td>0.0</td>\n",
       "      <td>8875.0</td>\n",
       "      <td>inf</td>\n",
       "    </tr>\n",
       "    <tr>\n",
       "      <th>Delhi</th>\n",
       "      <td>0.0</td>\n",
       "      <td>43.0</td>\n",
       "      <td>inf</td>\n",
       "    </tr>\n",
       "    <tr>\n",
       "      <th>Nagaland</th>\n",
       "      <td>3214.0</td>\n",
       "      <td>11258.0</td>\n",
       "      <td>87.157694</td>\n",
       "    </tr>\n",
       "    <tr>\n",
       "      <th>Mizoram</th>\n",
       "      <td>4264.0</td>\n",
       "      <td>11527.0</td>\n",
       "      <td>64.418071</td>\n",
       "    </tr>\n",
       "    <tr>\n",
       "      <th>DNH and DD</th>\n",
       "      <td>599.0</td>\n",
       "      <td>1252.0</td>\n",
       "      <td>44.573519</td>\n",
       "    </tr>\n",
       "    <tr>\n",
       "      <th>Tripura</th>\n",
       "      <td>7489.0</td>\n",
       "      <td>11699.0</td>\n",
       "      <td>24.986313</td>\n",
       "    </tr>\n",
       "    <tr>\n",
       "      <th>Ladakh</th>\n",
       "      <td>1632.0</td>\n",
       "      <td>2143.0</td>\n",
       "      <td>14.591132</td>\n",
       "    </tr>\n",
       "    <tr>\n",
       "      <th>Andaman &amp; Nicobar Island</th>\n",
       "      <td>2472.0</td>\n",
       "      <td>3020.0</td>\n",
       "      <td>10.529763</td>\n",
       "    </tr>\n",
       "  </tbody>\n",
       "</table>\n",
       "</div>"
      ],
      "text/plain": [
       "fiscal_year                 2022     2024  CAGR_2022_2024\n",
       "state                                                    \n",
       "Madhya Pradesh               0.0    195.0             inf\n",
       "Assam                        0.0  17463.0             inf\n",
       "Punjab                       0.0   8875.0             inf\n",
       "Delhi                        0.0     43.0             inf\n",
       "Nagaland                  3214.0  11258.0       87.157694\n",
       "Mizoram                   4264.0  11527.0       64.418071\n",
       "DNH and DD                 599.0   1252.0       44.573519\n",
       "Tripura                   7489.0  11699.0       24.986313\n",
       "Ladakh                    1632.0   2143.0       14.591132\n",
       "Andaman & Nicobar Island  2472.0   3020.0       10.529763"
      ]
     },
     "execution_count": 38,
     "metadata": {},
     "output_type": "execute_result"
    }
   ],
   "source": [
    "four_wheeler_df = final_df[final_df['vehicle_category'] == '4-Wheelers']\n",
    "\n",
    "# Group the data by state and fiscal year, summing up the total vehicles sold\n",
    "sales_by_state_year = four_wheeler_df.groupby(['state', 'fiscal_year'])['total_vehicles_sold'].sum().reset_index()\n",
    "\n",
    "# Pivot the data to get fiscal years as columns for easier CAGR calculation\n",
    "pivot_df = sales_by_state_year.pivot(index='state', columns='fiscal_year', values='total_vehicles_sold')\n",
    "\n",
    "# Fill any missing values with 0 (if a state didn't sell any vehicles in a given year)\n",
    "pivot_df = pivot_df.fillna(0)\n",
    "\n",
    "# Calculate the CAGR for each state from 2022 to 2024\n",
    "pivot_df['CAGR_2022_2024'] = ((pivot_df[2024] / pivot_df[2022]) ** (1/2) - 1) * 100\n",
    "\n",
    "# Sort by CAGR to find the top 10 states\n",
    "top_10_states = pivot_df.sort_values(by='CAGR_2022_2024', ascending=False).head(10)\n",
    "\n",
    "# Select relevant columns (2022, 2024 sales, and CAGR)\n",
    "top_10_states = top_10_states[[2022, 2024, 'CAGR_2022_2024']]\n",
    "\n",
    "top_10_states"
   ]
  },
  {
   "cell_type": "code",
   "execution_count": 39,
   "id": "e1db59af-fc86-4ef8-9868-bb2dc018ca32",
   "metadata": {},
   "outputs": [
    {
     "data": {
      "text/html": [
       "<div>\n",
       "<style scoped>\n",
       "    .dataframe tbody tr th:only-of-type {\n",
       "        vertical-align: middle;\n",
       "    }\n",
       "\n",
       "    .dataframe tbody tr th {\n",
       "        vertical-align: top;\n",
       "    }\n",
       "\n",
       "    .dataframe thead th {\n",
       "        text-align: right;\n",
       "    }\n",
       "</style>\n",
       "<table border=\"1\" class=\"dataframe\">\n",
       "  <thead>\n",
       "    <tr style=\"text-align: right;\">\n",
       "      <th>fiscal_year</th>\n",
       "      <th>2024</th>\n",
       "      <th>CAGR</th>\n",
       "      <th>Projected_2030_Sales</th>\n",
       "    </tr>\n",
       "    <tr>\n",
       "      <th>state</th>\n",
       "      <th></th>\n",
       "      <th></th>\n",
       "      <th></th>\n",
       "    </tr>\n",
       "  </thead>\n",
       "  <tbody>\n",
       "    <tr>\n",
       "      <th>Assam</th>\n",
       "      <td>29969.0</td>\n",
       "      <td>179.291324</td>\n",
       "      <td>1.422384e+07</td>\n",
       "    </tr>\n",
       "    <tr>\n",
       "      <th>Himachal Pradesh</th>\n",
       "      <td>16579.0</td>\n",
       "      <td>55.754886</td>\n",
       "      <td>2.367055e+05</td>\n",
       "    </tr>\n",
       "    <tr>\n",
       "      <th>Punjab</th>\n",
       "      <td>57022.0</td>\n",
       "      <td>47.209569</td>\n",
       "      <td>5.803082e+05</td>\n",
       "    </tr>\n",
       "    <tr>\n",
       "      <th>West Bengal</th>\n",
       "      <td>38813.0</td>\n",
       "      <td>39.977209</td>\n",
       "      <td>2.919585e+05</td>\n",
       "    </tr>\n",
       "    <tr>\n",
       "      <th>Rajasthan</th>\n",
       "      <td>61414.0</td>\n",
       "      <td>38.662632</td>\n",
       "      <td>4.365400e+05</td>\n",
       "    </tr>\n",
       "    <tr>\n",
       "      <th>Mizoram</th>\n",
       "      <td>15380.0</td>\n",
       "      <td>35.457900</td>\n",
       "      <td>9.501286e+04</td>\n",
       "    </tr>\n",
       "    <tr>\n",
       "      <th>DNH and DD</th>\n",
       "      <td>4150.0</td>\n",
       "      <td>34.530892</td>\n",
       "      <td>2.460256e+04</td>\n",
       "    </tr>\n",
       "    <tr>\n",
       "      <th>Odisha</th>\n",
       "      <td>27116.0</td>\n",
       "      <td>32.522361</td>\n",
       "      <td>1.468793e+05</td>\n",
       "    </tr>\n",
       "    <tr>\n",
       "      <th>Tripura</th>\n",
       "      <td>15905.0</td>\n",
       "      <td>30.098480</td>\n",
       "      <td>7.712000e+04</td>\n",
       "    </tr>\n",
       "    <tr>\n",
       "      <th>Nagaland</th>\n",
       "      <td>17842.0</td>\n",
       "      <td>26.215519</td>\n",
       "      <td>7.213069e+04</td>\n",
       "    </tr>\n",
       "  </tbody>\n",
       "</table>\n",
       "</div>"
      ],
      "text/plain": [
       "fiscal_year          2024        CAGR  Projected_2030_Sales\n",
       "state                                                      \n",
       "Assam             29969.0  179.291324          1.422384e+07\n",
       "Himachal Pradesh  16579.0   55.754886          2.367055e+05\n",
       "Punjab            57022.0   47.209569          5.803082e+05\n",
       "West Bengal       38813.0   39.977209          2.919585e+05\n",
       "Rajasthan         61414.0   38.662632          4.365400e+05\n",
       "Mizoram           15380.0   35.457900          9.501286e+04\n",
       "DNH and DD         4150.0   34.530892          2.460256e+04\n",
       "Odisha            27116.0   32.522361          1.468793e+05\n",
       "Tripura           15905.0   30.098480          7.712000e+04\n",
       "Nagaland          17842.0   26.215519          7.213069e+04"
      ]
     },
     "execution_count": 39,
     "metadata": {},
     "output_type": "execute_result"
    }
   ],
   "source": [
    "sales_by_state_year = final_df.groupby(['state', 'fiscal_year'])['total_vehicles_sold'].sum().reset_index()\n",
    "\n",
    "# Pivot the data to get fiscal years as columns for easier CAGR calculation\n",
    "pivot_df = sales_by_state_year.pivot(index='state', columns='fiscal_year', values='total_vehicles_sold')\n",
    "\n",
    "# Fill any missing values with 0 (if a state didn't sell any vehicles in a given year)\n",
    "pivot_df = pivot_df.fillna(0)\n",
    "\n",
    "# Calculate the CAGR for each state from the earliest to the latest available year\n",
    "earliest_year = pivot_df.columns.min()\n",
    "latest_year = pivot_df.columns.max()\n",
    "pivot_df['CAGR'] = ((pivot_df[latest_year] / pivot_df[earliest_year]) ** (1/(latest_year - earliest_year)) - 1) * 100\n",
    "\n",
    "# Sort by penetration rate (assuming penetration rate is proportional to CAGR) to find the top 10 states\n",
    "top_10_states = pivot_df.sort_values(by='CAGR', ascending=False).head(10)\n",
    "\n",
    "# Project the EV sales for 2030 using the CAGR\n",
    "projection_year = 2030\n",
    "top_10_states['Projected_2030_Sales'] = top_10_states[latest_year] * ((1 + (top_10_states['CAGR'] / 100)) ** (projection_year - latest_year))\n",
    "\n",
    "# Select relevant columns (latest year sales, CAGR, and projected 2030 sales)\n",
    "top_10_states = top_10_states[[latest_year, 'CAGR', 'Projected_2030_Sales']]\n",
    "\n",
    "# Display the result\n",
    "top_10_states"
   ]
  },
  {
   "cell_type": "code",
   "execution_count": 40,
   "id": "327fc112-9824-4321-8170-c53bcd37d513",
   "metadata": {},
   "outputs": [
    {
     "data": {
      "text/html": [
       "<div>\n",
       "<style scoped>\n",
       "    .dataframe tbody tr th:only-of-type {\n",
       "        vertical-align: middle;\n",
       "    }\n",
       "\n",
       "    .dataframe tbody tr th {\n",
       "        vertical-align: top;\n",
       "    }\n",
       "\n",
       "    .dataframe thead th {\n",
       "        text-align: right;\n",
       "    }\n",
       "</style>\n",
       "<table border=\"1\" class=\"dataframe\">\n",
       "  <thead>\n",
       "    <tr style=\"text-align: right;\">\n",
       "      <th></th>\n",
       "      <th>date</th>\n",
       "      <th>fiscal_year</th>\n",
       "      <th>quarter</th>\n",
       "      <th>vehicle_category</th>\n",
       "      <th>maker</th>\n",
       "      <th>electric_vehicles_sold</th>\n",
       "      <th>state</th>\n",
       "      <th>total_vehicles_sold</th>\n",
       "      <th>penetration_rate</th>\n",
       "      <th>Date</th>\n",
       "      <th>Month</th>\n",
       "      <th>Year</th>\n",
       "    </tr>\n",
       "  </thead>\n",
       "  <tbody>\n",
       "    <tr>\n",
       "      <th>0</th>\n",
       "      <td>01-Apr-21</td>\n",
       "      <td>2022</td>\n",
       "      <td>Q1</td>\n",
       "      <td>2-Wheelers</td>\n",
       "      <td>OLA ELECTRIC</td>\n",
       "      <td>0.0</td>\n",
       "      <td>Sikkim</td>\n",
       "      <td>398</td>\n",
       "      <td>0.0</td>\n",
       "      <td>01</td>\n",
       "      <td>Apr</td>\n",
       "      <td>21</td>\n",
       "    </tr>\n",
       "    <tr>\n",
       "      <th>1</th>\n",
       "      <td>01-Apr-21</td>\n",
       "      <td>2022</td>\n",
       "      <td>Q1</td>\n",
       "      <td>4-Wheelers</td>\n",
       "      <td>BYD India</td>\n",
       "      <td>0.0</td>\n",
       "      <td>Sikkim</td>\n",
       "      <td>408</td>\n",
       "      <td>0.0</td>\n",
       "      <td>01</td>\n",
       "      <td>Apr</td>\n",
       "      <td>21</td>\n",
       "    </tr>\n",
       "    <tr>\n",
       "      <th>2</th>\n",
       "      <td>01-Apr-21</td>\n",
       "      <td>2022</td>\n",
       "      <td>Q1</td>\n",
       "      <td>4-Wheelers</td>\n",
       "      <td>PCA Automobiles</td>\n",
       "      <td>0.0</td>\n",
       "      <td>Sikkim</td>\n",
       "      <td>540</td>\n",
       "      <td>0.0</td>\n",
       "      <td>01</td>\n",
       "      <td>Apr</td>\n",
       "      <td>21</td>\n",
       "    </tr>\n",
       "    <tr>\n",
       "      <th>3</th>\n",
       "      <td>01-Apr-21</td>\n",
       "      <td>2022</td>\n",
       "      <td>Q1</td>\n",
       "      <td>4-Wheelers</td>\n",
       "      <td>BMW India</td>\n",
       "      <td>0.0</td>\n",
       "      <td>Sikkim</td>\n",
       "      <td>355</td>\n",
       "      <td>0.0</td>\n",
       "      <td>01</td>\n",
       "      <td>Apr</td>\n",
       "      <td>21</td>\n",
       "    </tr>\n",
       "    <tr>\n",
       "      <th>4</th>\n",
       "      <td>01-Apr-21</td>\n",
       "      <td>2022</td>\n",
       "      <td>Q1</td>\n",
       "      <td>4-Wheelers</td>\n",
       "      <td>Volvo Auto India</td>\n",
       "      <td>0.0</td>\n",
       "      <td>Sikkim</td>\n",
       "      <td>455</td>\n",
       "      <td>0.0</td>\n",
       "      <td>01</td>\n",
       "      <td>Apr</td>\n",
       "      <td>21</td>\n",
       "    </tr>\n",
       "  </tbody>\n",
       "</table>\n",
       "</div>"
      ],
      "text/plain": [
       "        date  fiscal_year quarter vehicle_category             maker  \\\n",
       "0  01-Apr-21         2022      Q1       2-Wheelers      OLA ELECTRIC   \n",
       "1  01-Apr-21         2022      Q1       4-Wheelers         BYD India   \n",
       "2  01-Apr-21         2022      Q1       4-Wheelers   PCA Automobiles   \n",
       "3  01-Apr-21         2022      Q1       4-Wheelers         BMW India   \n",
       "4  01-Apr-21         2022      Q1       4-Wheelers  Volvo Auto India   \n",
       "\n",
       "   electric_vehicles_sold   state  total_vehicles_sold  penetration_rate Date  \\\n",
       "0                     0.0  Sikkim                  398               0.0   01   \n",
       "1                     0.0  Sikkim                  408               0.0   01   \n",
       "2                     0.0  Sikkim                  540               0.0   01   \n",
       "3                     0.0  Sikkim                  355               0.0   01   \n",
       "4                     0.0  Sikkim                  455               0.0   01   \n",
       "\n",
       "  Month Year  \n",
       "0   Apr   21  \n",
       "1   Apr   21  \n",
       "2   Apr   21  \n",
       "3   Apr   21  \n",
       "4   Apr   21  "
      ]
     },
     "execution_count": 40,
     "metadata": {},
     "output_type": "execute_result"
    }
   ],
   "source": [
    "final_df.head()"
   ]
  },
  {
   "cell_type": "code",
   "execution_count": 41,
   "id": "407ac367-2f22-48c3-aa41-aed710a4e74c",
   "metadata": {},
   "outputs": [
    {
     "data": {
      "text/plain": [
       "(16.725990749977328,)"
      ]
     },
     "execution_count": 41,
     "metadata": {},
     "output_type": "execute_result"
    }
   ],
   "source": [
    "# Define average unit prices for 4-wheelers and 2-wheelers (in lakhs INR, example values)\n",
    "average_price_4w = 1500000  # Average price for 4-wheelers\n",
    "average_price_2w = 85000    # Average price for 2-wheelers\n",
    "\n",
    "# Separate data for 4-wheelers and 2-wheelers\n",
    "four_wheeler_df = final_df[final_df['vehicle_category'] == '4-Wheelers']\n",
    "two_wheeler_df = final_df[final_df['vehicle_category'] == '2-Wheelers']\n",
    "\n",
    "# Group the data by fiscal year and sum up the total vehicles sold\n",
    "sales_by_year_4w = four_wheeler_df.groupby('fiscal_year')['total_vehicles_sold'].sum()\n",
    "sales_by_year_2w = two_wheeler_df.groupby('fiscal_year')['total_vehicles_sold'].sum()\n",
    "\n",
    "# Calculate revenue for each year (2022, 2023, 2024)\n",
    "revenue_4w = sales_by_year_4w * average_price_4w\n",
    "revenue_2w = sales_by_year_2w * average_price_2w\n",
    "\n",
    "# Calculate revenue growth rate for 2022 vs 2024 and 2023 vs 2024\n",
    "growth_4w_2022_2024 = ((revenue_4w[2024] - revenue_4w[2022]) / revenue_4w[2022]) * 100\n",
    "growth_4w_2023_2024 = ((revenue_4w[2024] - revenue_4w[2023]) / revenue_4w[2023]) * 100\n",
    "\n",
    "growth_2w_2022_2024 = ((revenue_2w[2024] - revenue_2w[2022]) / revenue_2w[2022]) * 100\n",
    "growth_2w_2023_2024 = ((revenue_2w[2024] - revenue_2w[2023]) / revenue_2w[2023]) * 100\n",
    "\n",
    "# Display the results\n",
    "growth_4w_2022_2024,"
   ]
  },
  {
   "cell_type": "code",
   "execution_count": 42,
   "id": "a4ef129f-641c-49cc-afcc-c12649c23958",
   "metadata": {},
   "outputs": [
    {
     "data": {
      "text/plain": [
       "(-16.354464517806083,)"
      ]
     },
     "execution_count": 42,
     "metadata": {},
     "output_type": "execute_result"
    }
   ],
   "source": [
    " growth_4w_2023_2024, "
   ]
  },
  {
   "cell_type": "code",
   "execution_count": 43,
   "id": "62ee5d3a-ee70-4918-8773-09d58dd8c1ab",
   "metadata": {},
   "outputs": [
    {
     "data": {
      "text/plain": [
       "(18.3271349041116,)"
      ]
     },
     "execution_count": 43,
     "metadata": {},
     "output_type": "execute_result"
    }
   ],
   "source": [
    " growth_2w_2022_2024,"
   ]
  },
  {
   "cell_type": "code",
   "execution_count": 44,
   "id": "9a4c1e74-da5a-4164-bf62-1da0cc77669a",
   "metadata": {},
   "outputs": [
    {
     "data": {
      "text/plain": [
       "-0.6477329826905417"
      ]
     },
     "execution_count": 44,
     "metadata": {},
     "output_type": "execute_result"
    }
   ],
   "source": [
    " growth_2w_2023_2024"
   ]
  },
  {
   "cell_type": "code",
   "execution_count": null,
   "id": "13b48c47-8827-4ff3-9771-79ef01ba5cd3",
   "metadata": {},
   "outputs": [],
   "source": []
  },
  {
   "cell_type": "code",
   "execution_count": null,
   "id": "baaa16df-6637-44d4-85d4-77001814ba28",
   "metadata": {},
   "outputs": [],
   "source": []
  },
  {
   "cell_type": "code",
   "execution_count": null,
   "id": "7878bd3e-7d43-4a2d-a146-830f5b626614",
   "metadata": {},
   "outputs": [],
   "source": []
  },
  {
   "cell_type": "code",
   "execution_count": null,
   "id": "852189c6-fc2a-498d-89f9-cc0ab6c072c6",
   "metadata": {},
   "outputs": [],
   "source": []
  },
  {
   "cell_type": "code",
   "execution_count": null,
   "id": "367fb8af-7f54-417d-9f17-bf639b1754af",
   "metadata": {},
   "outputs": [],
   "source": []
  },
  {
   "cell_type": "code",
   "execution_count": null,
   "id": "44ab49aa-b1b3-4898-9ac0-a052e1fbb8fd",
   "metadata": {},
   "outputs": [],
   "source": []
  },
  {
   "cell_type": "code",
   "execution_count": null,
   "id": "41a33359-1eb8-4525-b87c-3f1635239bea",
   "metadata": {},
   "outputs": [],
   "source": []
  },
  {
   "cell_type": "code",
   "execution_count": null,
   "id": "4b5c9a83-5561-42fb-8fa5-6d36294a9ab9",
   "metadata": {},
   "outputs": [],
   "source": []
  },
  {
   "cell_type": "code",
   "execution_count": null,
   "id": "9ecf55e5-9a6b-4d11-bcfd-1f20f147722b",
   "metadata": {},
   "outputs": [],
   "source": []
  },
  {
   "cell_type": "code",
   "execution_count": null,
   "id": "d04bae15-54f8-40bc-b977-58c4fde4a034",
   "metadata": {},
   "outputs": [],
   "source": []
  },
  {
   "cell_type": "code",
   "execution_count": null,
   "id": "50a05d6b-893c-4ed2-b70a-c05701371f01",
   "metadata": {},
   "outputs": [],
   "source": []
  },
  {
   "cell_type": "code",
   "execution_count": null,
   "id": "221245a0-fcb9-477c-b9fd-75b12e5d2d4b",
   "metadata": {},
   "outputs": [],
   "source": []
  },
  {
   "cell_type": "code",
   "execution_count": null,
   "id": "607c5071-4749-4fd6-9710-6e84ffb3f9c1",
   "metadata": {},
   "outputs": [],
   "source": []
  },
  {
   "cell_type": "code",
   "execution_count": null,
   "id": "721fac0d-ef38-46f3-86e6-d429b799f90f",
   "metadata": {},
   "outputs": [],
   "source": []
  },
  {
   "cell_type": "code",
   "execution_count": null,
   "id": "f3b6c5b8-6f7f-4acc-8907-5f94b83c62be",
   "metadata": {},
   "outputs": [],
   "source": []
  },
  {
   "cell_type": "code",
   "execution_count": null,
   "id": "14f32567-af41-4067-9bbb-000037737d61",
   "metadata": {},
   "outputs": [],
   "source": []
  },
  {
   "cell_type": "code",
   "execution_count": null,
   "id": "4b659027-f45d-4908-8b81-c01f25dee696",
   "metadata": {},
   "outputs": [],
   "source": []
  }
 ],
 "metadata": {
  "kernelspec": {
   "display_name": "Python 3 (ipykernel)",
   "language": "python",
   "name": "python3"
  },
  "language_info": {
   "codemirror_mode": {
    "name": "ipython",
    "version": 3
   },
   "file_extension": ".py",
   "mimetype": "text/x-python",
   "name": "python",
   "nbconvert_exporter": "python",
   "pygments_lexer": "ipython3",
   "version": "3.12.1"
  }
 },
 "nbformat": 4,
 "nbformat_minor": 5
}
